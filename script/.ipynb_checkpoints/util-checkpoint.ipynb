{
 "cells": [
  {
   "cell_type": "code",
   "execution_count": 11,
   "metadata": {},
   "outputs": [
    {
     "name": "stderr",
     "output_type": "stream",
     "text": [
      "/Users/Daniel/anaconda3/envs/carnegie3/lib/python3.6/site-packages/h5py/__init__.py:36: FutureWarning: Conversion of the second argument of issubdtype from `float` to `np.floating` is deprecated. In future, it will be treated as `np.float64 == np.dtype(float).type`.\n",
      "  from ._conv import register_converters as _register_converters\n",
      "Using TensorFlow backend.\n"
     ]
    }
   ],
   "source": [
    "import numpy as np\n",
    "import pandas as pd\n",
    "from sklearn import preprocessing\n",
    "from sklearn.model_selection import train_test_split\n",
    "from pgmpy.estimators import BdeuScore, K2Score, BicScore\n",
    "from pgmpy.models import BayesianModel\n",
    "from sklearn import preprocessing\n",
    "from sklearn.neighbors import NearestNeighbors\n",
    "from sklearn.preprocessing import OneHotEncoder, LabelEncoder\n",
    "from fancyimpute import BiScaler, KNN, NuclearNormMinimization, SoftImpute"
   ]
  },
  {
   "cell_type": "markdown",
   "metadata": {},
   "source": [
    "## Create simulation datasets"
   ]
  },
  {
   "cell_type": "code",
   "execution_count": 5,
   "metadata": {},
   "outputs": [],
   "source": [
    "def create_sim_dataset(validation, n_samples, n_rows,  n_sets):\n",
    "    \n",
    "    test = pd.read_csv(\"../data/test_kor.csv\")\n",
    "    frame = ~test.isna()\n",
    "    \n",
    "    validation = validation.reindex(frame.columns, axis=1)\n",
    "    \n",
    "    result_lst = []\n",
    "    \n",
    "    for _ in range(n_sets):\n",
    "\n",
    "        validation_sampled = validation.sample(n=n_samples, replace=False)\n",
    "\n",
    "        n_split = n_samples / n_rows\n",
    "\n",
    "        splited_indexes = np.array_split(validation_sampled.index, n_split)\n",
    "\n",
    "        problem_df_lst = []\n",
    "        answer_df_lst = []\n",
    "        for idx in splited_indexes:\n",
    "            selected_df = validation.loc[idx]\n",
    "            selected_df.reset_index(drop=True, inplace=True)\n",
    "            problem_df_lst.append(selected_df[frame])\n",
    "            answer_df_lst.append(selected_df[~frame])\n",
    "\n",
    "        problem_df = pd.concat(problem_df_lst)\n",
    "        answer_df = pd.concat(answer_df_lst)\n",
    "        result_lst.append({\n",
    "            'problem': problem_df, \n",
    "            'answer': answer_df\n",
    "                           \n",
    "        })\n",
    "    return result_lst\n",
    "        "
   ]
  },
  {
   "cell_type": "markdown",
   "metadata": {},
   "source": [
    "## Create metric for scoring\n"
   ]
  },
  {
   "cell_type": "code",
   "execution_count": 7,
   "metadata": {},
   "outputs": [],
   "source": [
    "def calculate_numerical_score(pred_df, true_df, B,  sj=1):\n",
    "    diff = np.concatenate(pred_df[numeric_predictor].values - true_df[numeric_predictor].values)\n",
    "    diff = diff[~np.isnan(diff)]\n",
    "    return B * np.sum(np.exp(-((diff/sj) ** 2)))\n",
    "\n",
    "def calculate_categorical_score(pred_df, true_df, C):\n",
    "    return C * np.sum(pred[categorical_predictor].values == pred[categorical_predictor].values)\n",
    "\n",
    "def calculate_total_score(pred_df, true_df, sj, B, C):\n",
    "    \n",
    "    return calculate_numerical_score(pred_df, true_df, B=B, sj=sj) + calculate_categorical_score(pred_df, true_df, C=C)"
   ]
  },
  {
   "cell_type": "markdown",
   "metadata": {},
   "source": [
    "## Download file from S3"
   ]
  },
  {
   "cell_type": "code",
   "execution_count": 9,
   "metadata": {},
   "outputs": [],
   "source": [
    "def download_files(filenames):\n",
    "    \n",
    "    import boto3\n",
    "    import botocore\n",
    "    \n",
    "    s3 = boto3.resource('s3')\n",
    "    \n",
    "    BUCKET_NAME = 'kaj011'\n",
    "    \n",
    "    for filename in filenames:\n",
    "        KEY = 'samsung_challenge/%s' % filename\n",
    "        \n",
    "        \n",
    "        try:\n",
    "            s3.Bucket(BUCKET_NAME).download_file(KEY, '../data/%s' % filename)\n",
    "        except botocore.exceptions.ClientError as e:\n",
    "            if e.response['Error']['Code'] == \"404\":\n",
    "                print(\"The object does not exist.\")\n",
    "            else:\n",
    "                raise\n",
    "    \n",
    "    "
   ]
  }
 ],
 "metadata": {
  "kernelspec": {
   "display_name": "Python 3",
   "language": "python",
   "name": "python3"
  },
  "language_info": {
   "codemirror_mode": {
    "name": "ipython",
    "version": 3
   },
   "file_extension": ".py",
   "mimetype": "text/x-python",
   "name": "python",
   "nbconvert_exporter": "python",
   "pygments_lexer": "ipython3",
   "version": "3.6.5"
  }
 },
 "nbformat": 4,
 "nbformat_minor": 2
}
