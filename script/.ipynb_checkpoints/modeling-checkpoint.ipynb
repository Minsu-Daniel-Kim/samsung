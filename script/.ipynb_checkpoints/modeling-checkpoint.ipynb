{
 "cells": [
  {
   "cell_type": "code",
   "execution_count": 181,
   "metadata": {},
   "outputs": [],
   "source": [
    "%run util.ipynb"
   ]
  },
  {
   "cell_type": "markdown",
   "metadata": {},
   "source": [
    "## Import datasets"
   ]
  },
  {
   "cell_type": "code",
   "execution_count": 182,
   "metadata": {},
   "outputs": [],
   "source": [
    "train = pd.read_csv(\"../data/train.csv\")\n",
    "test = pd.read_csv(\"../data/test_kor.csv\")\n",
    "validation = pd.read_csv(\"../data/validation.csv\")\n",
    "test = pd.read_csv(\"../data/test_kor.csv\")\n",
    "numeric_predictor = ['사상자수', '사망자수', '중상자수', '경상자수', '부상신고자수']\n",
    "categorical_predictor = ['주야', '요일', '발생지시도', '발생지시군구', '사고유형_대분류', '사고유형_중분류', '법규위반', '도로형태_대분류', '도로형태', '당사자종별_1당_대분류', '당사자종별_2당_대분류']\n",
    "test_columns = np.array(numeric_predictor + categorical_predictor)"
   ]
  },
  {
   "cell_type": "code",
   "execution_count": 183,
   "metadata": {},
   "outputs": [],
   "source": [
    "train = train[test_columns]\n",
    "validation = validation[test_columns]"
   ]
  },
  {
   "cell_type": "markdown",
   "metadata": {},
   "source": [
    "## Create simultation datasets"
   ]
  },
  {
   "cell_type": "code",
   "execution_count": 184,
   "metadata": {},
   "outputs": [],
   "source": [
    "n_samples = 1000\n",
    "n_rows = 50\n",
    "\n",
    "simulation_datasets = create_sim_dataset(validation, n_samples, n_rows, n_sets=10)"
   ]
  },
  {
   "cell_type": "code",
   "execution_count": 185,
   "metadata": {},
   "outputs": [],
   "source": [
    "train = train.reindex(test.columns, axis=1)"
   ]
  },
  {
   "cell_type": "code",
   "execution_count": 186,
   "metadata": {},
   "outputs": [],
   "source": [
    "tmp = simulation_datasets[0]['problem']"
   ]
  },
  {
   "cell_type": "code",
   "execution_count": 187,
   "metadata": {},
   "outputs": [],
   "source": [
    "tmp4 = pd.concat([tmp, train])"
   ]
  },
  {
   "cell_type": "code",
   "execution_count": 188,
   "metadata": {},
   "outputs": [
    {
     "data": {
      "text/html": [
       "<div>\n",
       "<style scoped>\n",
       "    .dataframe tbody tr th:only-of-type {\n",
       "        vertical-align: middle;\n",
       "    }\n",
       "\n",
       "    .dataframe tbody tr th {\n",
       "        vertical-align: top;\n",
       "    }\n",
       "\n",
       "    .dataframe thead th {\n",
       "        text-align: right;\n",
       "    }\n",
       "</style>\n",
       "<table border=\"1\" class=\"dataframe\">\n",
       "  <thead>\n",
       "    <tr style=\"text-align: right;\">\n",
       "      <th></th>\n",
       "      <th>주야</th>\n",
       "      <th>요일</th>\n",
       "      <th>사망자수</th>\n",
       "      <th>사상자수</th>\n",
       "      <th>중상자수</th>\n",
       "      <th>경상자수</th>\n",
       "      <th>부상신고자수</th>\n",
       "      <th>발생지시도</th>\n",
       "      <th>발생지시군구</th>\n",
       "      <th>사고유형_대분류</th>\n",
       "      <th>사고유형_중분류</th>\n",
       "      <th>법규위반</th>\n",
       "      <th>도로형태_대분류</th>\n",
       "      <th>도로형태</th>\n",
       "      <th>당사자종별_1당_대분류</th>\n",
       "      <th>당사자종별_2당_대분류</th>\n",
       "    </tr>\n",
       "  </thead>\n",
       "  <tbody>\n",
       "    <tr>\n",
       "      <th>0</th>\n",
       "      <td>야간</td>\n",
       "      <td>토</td>\n",
       "      <td>NaN</td>\n",
       "      <td>NaN</td>\n",
       "      <td>0.0</td>\n",
       "      <td>NaN</td>\n",
       "      <td>0.0</td>\n",
       "      <td>대구</td>\n",
       "      <td>달성군</td>\n",
       "      <td>차대사람</td>\n",
       "      <td>횡단중</td>\n",
       "      <td>안전운전 의무 불이행</td>\n",
       "      <td>단일로</td>\n",
       "      <td>기타단일로</td>\n",
       "      <td>승용차</td>\n",
       "      <td>보행자</td>\n",
       "    </tr>\n",
       "    <tr>\n",
       "      <th>1</th>\n",
       "      <td>주간</td>\n",
       "      <td>금</td>\n",
       "      <td>NaN</td>\n",
       "      <td>NaN</td>\n",
       "      <td>1.0</td>\n",
       "      <td>NaN</td>\n",
       "      <td>0.0</td>\n",
       "      <td>전남</td>\n",
       "      <td>여수시</td>\n",
       "      <td>차대차</td>\n",
       "      <td>추돌</td>\n",
       "      <td>안전운전 의무 불이행</td>\n",
       "      <td>단일로</td>\n",
       "      <td>기타단일로</td>\n",
       "      <td>화물차</td>\n",
       "      <td>승용차</td>\n",
       "    </tr>\n",
       "    <tr>\n",
       "      <th>2</th>\n",
       "      <td>주간</td>\n",
       "      <td>목</td>\n",
       "      <td>1.0</td>\n",
       "      <td>NaN</td>\n",
       "      <td>NaN</td>\n",
       "      <td>1.0</td>\n",
       "      <td>NaN</td>\n",
       "      <td>서울</td>\n",
       "      <td>은평구</td>\n",
       "      <td>차대사람</td>\n",
       "      <td>횡단중</td>\n",
       "      <td>안전운전 의무 불이행</td>\n",
       "      <td>단일로</td>\n",
       "      <td>기타단일로</td>\n",
       "      <td>승합차</td>\n",
       "      <td>보행자</td>\n",
       "    </tr>\n",
       "    <tr>\n",
       "      <th>3</th>\n",
       "      <td>야간</td>\n",
       "      <td>토</td>\n",
       "      <td>1.0</td>\n",
       "      <td>NaN</td>\n",
       "      <td>NaN</td>\n",
       "      <td>0.0</td>\n",
       "      <td>NaN</td>\n",
       "      <td>강원</td>\n",
       "      <td>동해시</td>\n",
       "      <td>차대사람</td>\n",
       "      <td>횡단중</td>\n",
       "      <td>안전운전 의무 불이행</td>\n",
       "      <td>교차로</td>\n",
       "      <td>교차로내</td>\n",
       "      <td>승용차</td>\n",
       "      <td>보행자</td>\n",
       "    </tr>\n",
       "    <tr>\n",
       "      <th>4</th>\n",
       "      <td>야간</td>\n",
       "      <td>토</td>\n",
       "      <td>1.0</td>\n",
       "      <td>NaN</td>\n",
       "      <td>NaN</td>\n",
       "      <td>NaN</td>\n",
       "      <td>0.0</td>\n",
       "      <td>경기</td>\n",
       "      <td>파주시</td>\n",
       "      <td>차대사람</td>\n",
       "      <td>기타</td>\n",
       "      <td>안전운전 의무 불이행</td>\n",
       "      <td>단일로</td>\n",
       "      <td>기타단일로</td>\n",
       "      <td>승용차</td>\n",
       "      <td>보행자</td>\n",
       "    </tr>\n",
       "  </tbody>\n",
       "</table>\n",
       "</div>"
      ],
      "text/plain": [
       "   주야 요일  사망자수  사상자수  중상자수  경상자수  부상신고자수 발생지시도 발생지시군구 사고유형_대분류 사고유형_중분류  \\\n",
       "0  야간  토   NaN   NaN   0.0   NaN     0.0    대구    달성군     차대사람      횡단중   \n",
       "1  주간  금   NaN   NaN   1.0   NaN     0.0    전남    여수시      차대차       추돌   \n",
       "2  주간  목   1.0   NaN   NaN   1.0     NaN    서울    은평구     차대사람      횡단중   \n",
       "3  야간  토   1.0   NaN   NaN   0.0     NaN    강원    동해시     차대사람      횡단중   \n",
       "4  야간  토   1.0   NaN   NaN   NaN     0.0    경기    파주시     차대사람       기타   \n",
       "\n",
       "          법규위반 도로형태_대분류   도로형태 당사자종별_1당_대분류 당사자종별_2당_대분류  \n",
       "0  안전운전 의무 불이행      단일로  기타단일로          승용차          보행자  \n",
       "1  안전운전 의무 불이행      단일로  기타단일로          화물차          승용차  \n",
       "2  안전운전 의무 불이행      단일로  기타단일로          승합차          보행자  \n",
       "3  안전운전 의무 불이행      교차로   교차로내          승용차          보행자  \n",
       "4  안전운전 의무 불이행      단일로  기타단일로          승용차          보행자  "
      ]
     },
     "execution_count": 188,
     "metadata": {},
     "output_type": "execute_result"
    }
   ],
   "source": [
    "tmp4.head()"
   ]
  },
  {
   "cell_type": "markdown",
   "metadata": {},
   "source": [
    "## KNN"
   ]
  },
  {
   "cell_type": "code",
   "execution_count": 191,
   "metadata": {},
   "outputs": [],
   "source": [
    "# KNN(k=3).complete(tmp4.values)"
   ]
  },
  {
   "cell_type": "code",
   "execution_count": 110,
   "metadata": {},
   "outputs": [],
   "source": [
    "label_enc = LabelEncoder()\n",
    "\n",
    "label_enc.fit_transform(tmp4['요일'])\n",
    "\n",
    "one_hot_enc = OneHotEncoder()\n",
    "\n",
    "enc.fit(tmp4.values)"
   ]
  },
  {
   "cell_type": "code",
   "execution_count": null,
   "metadata": {},
   "outputs": [],
   "source": []
  }
 ],
 "metadata": {
  "kernelspec": {
   "display_name": "Python 3",
   "language": "python",
   "name": "python3"
  },
  "language_info": {
   "codemirror_mode": {
    "name": "ipython",
    "version": 3
   },
   "file_extension": ".py",
   "mimetype": "text/x-python",
   "name": "python",
   "nbconvert_exporter": "python",
   "pygments_lexer": "ipython3",
   "version": "3.6.5"
  }
 },
 "nbformat": 4,
 "nbformat_minor": 2
}
